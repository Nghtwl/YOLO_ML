{
  "nbformat": 4,
  "nbformat_minor": 0,
  "metadata": {
    "colab": {
      "provenance": [],
      "gpuType": "T4"
    },
    "kernelspec": {
      "name": "python3",
      "display_name": "Python 3"
    },
    "language_info": {
      "name": "python"
    },
    "accelerator": "GPU"
  },
  "cells": [
    {
      "cell_type": "markdown",
      "source": [
        "Монтируем Google Drive:"
      ],
      "metadata": {
        "id": "2_HgDNWLZA9r"
      }
    },
    {
      "cell_type": "code",
      "source": [
        "from google.colab import drive\n",
        "drive.mount('/content/drive', force_remount=True)\n",
        "%cd /content/drive/MyDrive/Colab_Notebooks/ML"
      ],
      "metadata": {
        "colab": {
          "base_uri": "https://localhost:8080/"
        },
        "id": "JIsFMaOQSn8Z",
        "outputId": "0d4ab8a7-5b3b-42a9-c2e0-6c44ba61da6c"
      },
      "execution_count": null,
      "outputs": [
        {
          "output_type": "stream",
          "name": "stdout",
          "text": [
            "Mounted at /content/drive\n",
            "/content/drive/MyDrive/Colab_Notebooks/ML\n"
          ]
        }
      ]
    },
    {
      "cell_type": "markdown",
      "source": [
        "Клонируем репозиторий с github и устанавливаем requirements.txt"
      ],
      "metadata": {
        "id": "sVFc5c5BZrJO"
      }
    },
    {
      "cell_type": "code",
      "execution_count": null,
      "metadata": {
        "colab": {
          "base_uri": "https://localhost:8080/"
        },
        "id": "6IIVlGBKOFtm",
        "outputId": "f8118728-b30e-45d1-e937-f1bdab4db0f5"
      },
      "outputs": [
        {
          "output_type": "stream",
          "name": "stdout",
          "text": [
            "fatal: destination path 'yolov5' already exists and is not an empty directory.\n",
            "/content/drive/MyDrive/Colab_Notebooks/ML/yolov5\n",
            "Requirement already satisfied: gitpython>=3.1.30 in /usr/local/lib/python3.10/dist-packages (from -r requirements.txt (line 5)) (3.1.43)\n",
            "Requirement already satisfied: matplotlib>=3.3 in /usr/local/lib/python3.10/dist-packages (from -r requirements.txt (line 6)) (3.7.1)\n",
            "Requirement already satisfied: numpy>=1.23.5 in /usr/local/lib/python3.10/dist-packages (from -r requirements.txt (line 7)) (1.25.2)\n",
            "Requirement already satisfied: opencv-python>=4.1.1 in /usr/local/lib/python3.10/dist-packages (from -r requirements.txt (line 8)) (4.8.0.76)\n",
            "Requirement already satisfied: pillow>=10.3.0 in /usr/local/lib/python3.10/dist-packages (from -r requirements.txt (line 9)) (10.3.0)\n",
            "Requirement already satisfied: psutil in /usr/local/lib/python3.10/dist-packages (from -r requirements.txt (line 10)) (5.9.5)\n",
            "Requirement already satisfied: PyYAML>=5.3.1 in /usr/local/lib/python3.10/dist-packages (from -r requirements.txt (line 11)) (6.0.1)\n",
            "Requirement already satisfied: requests>=2.23.0 in /usr/local/lib/python3.10/dist-packages (from -r requirements.txt (line 12)) (2.31.0)\n",
            "Requirement already satisfied: scipy>=1.4.1 in /usr/local/lib/python3.10/dist-packages (from -r requirements.txt (line 13)) (1.11.4)\n",
            "Requirement already satisfied: thop>=0.1.1 in /usr/local/lib/python3.10/dist-packages (from -r requirements.txt (line 14)) (0.1.1.post2209072238)\n",
            "Requirement already satisfied: torch>=1.8.0 in /usr/local/lib/python3.10/dist-packages (from -r requirements.txt (line 15)) (2.2.1+cu121)\n",
            "Requirement already satisfied: torchvision>=0.9.0 in /usr/local/lib/python3.10/dist-packages (from -r requirements.txt (line 16)) (0.17.1+cu121)\n",
            "Requirement already satisfied: tqdm>=4.64.0 in /usr/local/lib/python3.10/dist-packages (from -r requirements.txt (line 17)) (4.66.2)\n",
            "Requirement already satisfied: ultralytics>=8.0.232 in /usr/local/lib/python3.10/dist-packages (from -r requirements.txt (line 18)) (8.2.2)\n",
            "Requirement already satisfied: pandas>=1.1.4 in /usr/local/lib/python3.10/dist-packages (from -r requirements.txt (line 27)) (2.0.3)\n",
            "Requirement already satisfied: seaborn>=0.11.0 in /usr/local/lib/python3.10/dist-packages (from -r requirements.txt (line 28)) (0.13.1)\n",
            "Requirement already satisfied: setuptools>=65.5.1 in /usr/local/lib/python3.10/dist-packages (from -r requirements.txt (line 42)) (67.7.2)\n",
            "Requirement already satisfied: wheel>=0.38.0 in /usr/local/lib/python3.10/dist-packages (from -r requirements.txt (line 50)) (0.43.0)\n",
            "Requirement already satisfied: gitdb<5,>=4.0.1 in /usr/local/lib/python3.10/dist-packages (from gitpython>=3.1.30->-r requirements.txt (line 5)) (4.0.11)\n",
            "Requirement already satisfied: contourpy>=1.0.1 in /usr/local/lib/python3.10/dist-packages (from matplotlib>=3.3->-r requirements.txt (line 6)) (1.2.1)\n",
            "Requirement already satisfied: cycler>=0.10 in /usr/local/lib/python3.10/dist-packages (from matplotlib>=3.3->-r requirements.txt (line 6)) (0.12.1)\n",
            "Requirement already satisfied: fonttools>=4.22.0 in /usr/local/lib/python3.10/dist-packages (from matplotlib>=3.3->-r requirements.txt (line 6)) (4.51.0)\n",
            "Requirement already satisfied: kiwisolver>=1.0.1 in /usr/local/lib/python3.10/dist-packages (from matplotlib>=3.3->-r requirements.txt (line 6)) (1.4.5)\n",
            "Requirement already satisfied: packaging>=20.0 in /usr/local/lib/python3.10/dist-packages (from matplotlib>=3.3->-r requirements.txt (line 6)) (24.0)\n",
            "Requirement already satisfied: pyparsing>=2.3.1 in /usr/local/lib/python3.10/dist-packages (from matplotlib>=3.3->-r requirements.txt (line 6)) (3.1.2)\n",
            "Requirement already satisfied: python-dateutil>=2.7 in /usr/local/lib/python3.10/dist-packages (from matplotlib>=3.3->-r requirements.txt (line 6)) (2.8.2)\n",
            "Requirement already satisfied: charset-normalizer<4,>=2 in /usr/local/lib/python3.10/dist-packages (from requests>=2.23.0->-r requirements.txt (line 12)) (3.3.2)\n",
            "Requirement already satisfied: idna<4,>=2.5 in /usr/local/lib/python3.10/dist-packages (from requests>=2.23.0->-r requirements.txt (line 12)) (3.7)\n",
            "Requirement already satisfied: urllib3<3,>=1.21.1 in /usr/local/lib/python3.10/dist-packages (from requests>=2.23.0->-r requirements.txt (line 12)) (2.0.7)\n",
            "Requirement already satisfied: certifi>=2017.4.17 in /usr/local/lib/python3.10/dist-packages (from requests>=2.23.0->-r requirements.txt (line 12)) (2024.2.2)\n",
            "Requirement already satisfied: filelock in /usr/local/lib/python3.10/dist-packages (from torch>=1.8.0->-r requirements.txt (line 15)) (3.13.4)\n",
            "Requirement already satisfied: typing-extensions>=4.8.0 in /usr/local/lib/python3.10/dist-packages (from torch>=1.8.0->-r requirements.txt (line 15)) (4.11.0)\n",
            "Requirement already satisfied: sympy in /usr/local/lib/python3.10/dist-packages (from torch>=1.8.0->-r requirements.txt (line 15)) (1.12)\n",
            "Requirement already satisfied: networkx in /usr/local/lib/python3.10/dist-packages (from torch>=1.8.0->-r requirements.txt (line 15)) (3.3)\n",
            "Requirement already satisfied: jinja2 in /usr/local/lib/python3.10/dist-packages (from torch>=1.8.0->-r requirements.txt (line 15)) (3.1.3)\n",
            "Requirement already satisfied: fsspec in /usr/local/lib/python3.10/dist-packages (from torch>=1.8.0->-r requirements.txt (line 15)) (2023.6.0)\n",
            "Requirement already satisfied: nvidia-cuda-nvrtc-cu12==12.1.105 in /usr/local/lib/python3.10/dist-packages (from torch>=1.8.0->-r requirements.txt (line 15)) (12.1.105)\n",
            "Requirement already satisfied: nvidia-cuda-runtime-cu12==12.1.105 in /usr/local/lib/python3.10/dist-packages (from torch>=1.8.0->-r requirements.txt (line 15)) (12.1.105)\n",
            "Requirement already satisfied: nvidia-cuda-cupti-cu12==12.1.105 in /usr/local/lib/python3.10/dist-packages (from torch>=1.8.0->-r requirements.txt (line 15)) (12.1.105)\n",
            "Requirement already satisfied: nvidia-cudnn-cu12==8.9.2.26 in /usr/local/lib/python3.10/dist-packages (from torch>=1.8.0->-r requirements.txt (line 15)) (8.9.2.26)\n",
            "Requirement already satisfied: nvidia-cublas-cu12==12.1.3.1 in /usr/local/lib/python3.10/dist-packages (from torch>=1.8.0->-r requirements.txt (line 15)) (12.1.3.1)\n",
            "Requirement already satisfied: nvidia-cufft-cu12==11.0.2.54 in /usr/local/lib/python3.10/dist-packages (from torch>=1.8.0->-r requirements.txt (line 15)) (11.0.2.54)\n",
            "Requirement already satisfied: nvidia-curand-cu12==10.3.2.106 in /usr/local/lib/python3.10/dist-packages (from torch>=1.8.0->-r requirements.txt (line 15)) (10.3.2.106)\n",
            "Requirement already satisfied: nvidia-cusolver-cu12==11.4.5.107 in /usr/local/lib/python3.10/dist-packages (from torch>=1.8.0->-r requirements.txt (line 15)) (11.4.5.107)\n",
            "Requirement already satisfied: nvidia-cusparse-cu12==12.1.0.106 in /usr/local/lib/python3.10/dist-packages (from torch>=1.8.0->-r requirements.txt (line 15)) (12.1.0.106)\n",
            "Requirement already satisfied: nvidia-nccl-cu12==2.19.3 in /usr/local/lib/python3.10/dist-packages (from torch>=1.8.0->-r requirements.txt (line 15)) (2.19.3)\n",
            "Requirement already satisfied: nvidia-nvtx-cu12==12.1.105 in /usr/local/lib/python3.10/dist-packages (from torch>=1.8.0->-r requirements.txt (line 15)) (12.1.105)\n",
            "Requirement already satisfied: triton==2.2.0 in /usr/local/lib/python3.10/dist-packages (from torch>=1.8.0->-r requirements.txt (line 15)) (2.2.0)\n",
            "Requirement already satisfied: nvidia-nvjitlink-cu12 in /usr/local/lib/python3.10/dist-packages (from nvidia-cusolver-cu12==11.4.5.107->torch>=1.8.0->-r requirements.txt (line 15)) (12.4.127)\n",
            "Requirement already satisfied: py-cpuinfo in /usr/local/lib/python3.10/dist-packages (from ultralytics>=8.0.232->-r requirements.txt (line 18)) (9.0.0)\n",
            "Requirement already satisfied: pytz>=2020.1 in /usr/local/lib/python3.10/dist-packages (from pandas>=1.1.4->-r requirements.txt (line 27)) (2023.4)\n",
            "Requirement already satisfied: tzdata>=2022.1 in /usr/local/lib/python3.10/dist-packages (from pandas>=1.1.4->-r requirements.txt (line 27)) (2024.1)\n",
            "Requirement already satisfied: smmap<6,>=3.0.1 in /usr/local/lib/python3.10/dist-packages (from gitdb<5,>=4.0.1->gitpython>=3.1.30->-r requirements.txt (line 5)) (5.0.1)\n",
            "Requirement already satisfied: six>=1.5 in /usr/local/lib/python3.10/dist-packages (from python-dateutil>=2.7->matplotlib>=3.3->-r requirements.txt (line 6)) (1.16.0)\n",
            "Requirement already satisfied: MarkupSafe>=2.0 in /usr/local/lib/python3.10/dist-packages (from jinja2->torch>=1.8.0->-r requirements.txt (line 15)) (2.1.5)\n",
            "Requirement already satisfied: mpmath>=0.19 in /usr/local/lib/python3.10/dist-packages (from sympy->torch>=1.8.0->-r requirements.txt (line 15)) (1.3.0)\n"
          ]
        }
      ],
      "source": [
        "!git clone https://github.com/ultralytics/yolov5  # clone\n",
        "%cd yolov5\n",
        "%pip install -r requirements.txt  # install"
      ]
    },
    {
      "cell_type": "code",
      "source": [
        "import torch\n",
        "import utils\n",
        "display = utils.notebook_init()  # checks"
      ],
      "metadata": {
        "colab": {
          "base_uri": "https://localhost:8080/"
        },
        "id": "Yq0_bt9dPOQf",
        "outputId": "966f034a-254b-4901-ec1c-6ebfb1b107e9"
      },
      "execution_count": null,
      "outputs": [
        {
          "output_type": "stream",
          "name": "stderr",
          "text": [
            "YOLOv5 🚀 v7.0-304-g22361691 Python-3.10.12 torch-2.2.1+cu121 CUDA:0 (Tesla T4, 15102MiB)\n"
          ]
        },
        {
          "output_type": "stream",
          "name": "stdout",
          "text": [
            "Setup complete ✅ (2 CPUs, 12.7 GB RAM, 29.0/78.2 GB disk)\n"
          ]
        }
      ]
    },
    {
      "cell_type": "markdown",
      "source": [
        "Запускаем программу train.py из папки yolov5"
      ],
      "metadata": {
        "id": "RrAVsxYKNnmm"
      }
    },
    {
      "cell_type": "code",
      "source": [
        "!python train.py --img 640 --batch 16 --epochs 30 --data traffic_signs.yaml --weights yolov5s.pt --cache"
      ],
      "metadata": {
        "colab": {
          "base_uri": "https://localhost:8080/"
        },
        "id": "rGdGHIrVah1y",
        "outputId": "b81d9de4-9165-4e4f-ee44-7b3688c517eb"
      },
      "execution_count": null,
      "outputs": [
        {
          "output_type": "stream",
          "name": "stdout",
          "text": [
            "2024-04-25 14:09:21.771007: E external/local_xla/xla/stream_executor/cuda/cuda_dnn.cc:9261] Unable to register cuDNN factory: Attempting to register factory for plugin cuDNN when one has already been registered\n",
            "2024-04-25 14:09:21.771074: E external/local_xla/xla/stream_executor/cuda/cuda_fft.cc:607] Unable to register cuFFT factory: Attempting to register factory for plugin cuFFT when one has already been registered\n",
            "2024-04-25 14:09:21.772560: E external/local_xla/xla/stream_executor/cuda/cuda_blas.cc:1515] Unable to register cuBLAS factory: Attempting to register factory for plugin cuBLAS when one has already been registered\n",
            "\u001b[34m\u001b[1mtrain: \u001b[0mweights=yolov5s.pt, cfg=, data=traffic_signs.yaml, hyp=data/hyps/hyp.scratch-low.yaml, epochs=30, batch_size=16, imgsz=640, rect=False, resume=False, nosave=False, noval=False, noautoanchor=False, noplots=False, evolve=None, evolve_population=data/hyps, resume_evolve=None, bucket=, cache=ram, image_weights=False, device=, multi_scale=False, single_cls=False, optimizer=SGD, sync_bn=False, workers=8, project=runs/train, name=exp, exist_ok=False, quad=False, cos_lr=False, label_smoothing=0.0, patience=100, freeze=[0], save_period=-1, seed=0, local_rank=-1, entity=None, upload_dataset=False, bbox_interval=-1, artifact_alias=latest, ndjson_console=False, ndjson_file=False\n",
            "\u001b[34m\u001b[1mgithub: \u001b[0mup to date with https://github.com/ultralytics/yolov5 ✅\n",
            "YOLOv5 🚀 v7.0-304-g22361691 Python-3.10.12 torch-2.2.1+cu121 CUDA:0 (Tesla T4, 15102MiB)\n",
            "\n",
            "\u001b[34m\u001b[1mhyperparameters: \u001b[0mlr0=0.01, lrf=0.01, momentum=0.937, weight_decay=0.0005, warmup_epochs=3.0, warmup_momentum=0.8, warmup_bias_lr=0.1, box=0.05, cls=0.5, cls_pw=1.0, obj=1.0, obj_pw=1.0, iou_t=0.2, anchor_t=4.0, fl_gamma=0.0, hsv_h=0.015, hsv_s=0.7, hsv_v=0.4, degrees=0.0, translate=0.1, scale=0.5, shear=0.0, perspective=0.0, flipud=0.0, fliplr=0.5, mosaic=1.0, mixup=0.0, copy_paste=0.0\n",
            "\u001b[34m\u001b[1mComet: \u001b[0mrun 'pip install comet_ml' to automatically track and visualize YOLOv5 🚀 runs in Comet\n",
            "\u001b[34m\u001b[1mTensorBoard: \u001b[0mStart with 'tensorboard --logdir runs/train', view at http://localhost:6006/\n",
            "Overriding model.yaml nc=80 with nc=4\n",
            "\n",
            "                 from  n    params  module                                  arguments                     \n",
            "  0                -1  1      3520  models.common.Conv                      [3, 32, 6, 2, 2]              \n",
            "  1                -1  1     18560  models.common.Conv                      [32, 64, 3, 2]                \n",
            "  2                -1  1     18816  models.common.C3                        [64, 64, 1]                   \n",
            "  3                -1  1     73984  models.common.Conv                      [64, 128, 3, 2]               \n",
            "  4                -1  2    115712  models.common.C3                        [128, 128, 2]                 \n",
            "  5                -1  1    295424  models.common.Conv                      [128, 256, 3, 2]              \n",
            "  6                -1  3    625152  models.common.C3                        [256, 256, 3]                 \n",
            "  7                -1  1   1180672  models.common.Conv                      [256, 512, 3, 2]              \n",
            "  8                -1  1   1182720  models.common.C3                        [512, 512, 1]                 \n",
            "  9                -1  1    656896  models.common.SPPF                      [512, 512, 5]                 \n",
            " 10                -1  1    131584  models.common.Conv                      [512, 256, 1, 1]              \n",
            " 11                -1  1         0  torch.nn.modules.upsampling.Upsample    [None, 2, 'nearest']          \n",
            " 12           [-1, 6]  1         0  models.common.Concat                    [1]                           \n",
            " 13                -1  1    361984  models.common.C3                        [512, 256, 1, False]          \n",
            " 14                -1  1     33024  models.common.Conv                      [256, 128, 1, 1]              \n",
            " 15                -1  1         0  torch.nn.modules.upsampling.Upsample    [None, 2, 'nearest']          \n",
            " 16           [-1, 4]  1         0  models.common.Concat                    [1]                           \n",
            " 17                -1  1     90880  models.common.C3                        [256, 128, 1, False]          \n",
            " 18                -1  1    147712  models.common.Conv                      [128, 128, 3, 2]              \n",
            " 19          [-1, 14]  1         0  models.common.Concat                    [1]                           \n",
            " 20                -1  1    296448  models.common.C3                        [256, 256, 1, False]          \n",
            " 21                -1  1    590336  models.common.Conv                      [256, 256, 3, 2]              \n",
            " 22          [-1, 10]  1         0  models.common.Concat                    [1]                           \n",
            " 23                -1  1   1182720  models.common.C3                        [512, 512, 1, False]          \n",
            " 24      [17, 20, 23]  1     24273  models.yolo.Detect                      [4, [[10, 13, 16, 30, 33, 23], [30, 61, 62, 45, 59, 119], [116, 90, 156, 198, 373, 326]], [128, 256, 512]]\n",
            "Model summary: 214 layers, 7030417 parameters, 7030417 gradients, 16.0 GFLOPs\n",
            "\n",
            "Transferred 343/349 items from yolov5s.pt\n",
            "\u001b[34m\u001b[1mAMP: \u001b[0mchecks passed ✅\n",
            "\u001b[34m\u001b[1moptimizer:\u001b[0m SGD(lr=0.01) with parameter groups 57 weight(decay=0.0), 60 weight(decay=0.0005), 60 bias\n",
            "\u001b[34m\u001b[1malbumentations: \u001b[0mBlur(p=0.01, blur_limit=(3, 7)), MedianBlur(p=0.01, blur_limit=(3, 7)), ToGray(p=0.01), CLAHE(p=0.01, clip_limit=(1, 4.0), tile_grid_size=(8, 8))\n",
            "/usr/lib/python3.10/multiprocessing/popen_fork.py:66: RuntimeWarning: os.fork() was called. os.fork() is incompatible with multithreaded code, and JAX is multithreaded, so this will likely lead to a deadlock.\n",
            "  self.pid = os.fork()\n",
            "\u001b[34m\u001b[1mtrain: \u001b[0mScanning /content/drive/MyDrive/Colab_Notebooks/ML/datasets/ts/labels... 700 images, 0 backgrounds, 0 corrupt: 100% 700/700 [07:43<00:00,  1.51it/s]\n",
            "\u001b[34m\u001b[1mtrain: \u001b[0mWARNING ⚠️ /content/drive/MyDrive/Colab_Notebooks/ML/datasets/ts/images/00340.jpg: 1 duplicate labels removed\n",
            "\u001b[34m\u001b[1mtrain: \u001b[0mNew cache created: /content/drive/MyDrive/Colab_Notebooks/ML/datasets/ts/labels.cache\n",
            "\u001b[34m\u001b[1mtrain: \u001b[0mCaching images (0.5GB ram): 100% 700/700 [00:17<00:00, 41.12it/s]\n",
            "\u001b[34m\u001b[1mval: \u001b[0mScanning /content/drive/MyDrive/Colab_Notebooks/ML/datasets/ts/labels.cache... 700 images, 0 backgrounds, 0 corrupt: 100% 700/700 [00:00<?, ?it/s]\n",
            "\u001b[34m\u001b[1mtrain: \u001b[0mWARNING ⚠️ /content/drive/MyDrive/Colab_Notebooks/ML/datasets/ts/images/00340.jpg: 1 duplicate labels removed\n",
            "\u001b[34m\u001b[1mval: \u001b[0mCaching images (0.5GB ram): 100% 700/700 [00:23<00:00, 29.18it/s]\n",
            "\n",
            "\u001b[34m\u001b[1mAutoAnchor: \u001b[0m4.50 anchors/target, 1.000 Best Possible Recall (BPR). Current anchors are a good fit to dataset ✅\n",
            "Plotting labels to runs/train/exp5/labels.jpg... \n",
            "Image sizes 640 train, 640 val\n",
            "Using 2 dataloader workers\n",
            "Logging results to \u001b[1mruns/train/exp5\u001b[0m\n",
            "Starting training for 30 epochs...\n",
            "\n",
            "      Epoch    GPU_mem   box_loss   obj_loss   cls_loss  Instances       Size\n",
            "       0/29      3.67G     0.1227    0.02251    0.04442         30        640: 100% 44/44 [00:16<00:00,  2.60it/s]\n",
            "                 Class     Images  Instances          P          R      mAP50   mAP50-95: 100% 22/22 [00:06<00:00,  3.29it/s]\n",
            "                   all        700       1145    0.00141       0.16    0.00215   0.000555\n",
            "\n",
            "      Epoch    GPU_mem   box_loss   obj_loss   cls_loss  Instances       Size\n",
            "       1/29      3.89G    0.08858     0.0219    0.03851         46        640: 100% 44/44 [00:11<00:00,  3.71it/s]\n",
            "                 Class     Images  Instances          P          R      mAP50   mAP50-95: 100% 22/22 [00:06<00:00,  3.26it/s]\n",
            "                   all        700       1145     0.0512      0.097     0.0477     0.0123\n",
            "\n",
            "      Epoch    GPU_mem   box_loss   obj_loss   cls_loss  Instances       Size\n",
            "       2/29      3.89G    0.07778     0.0185    0.03502         28        640: 100% 44/44 [00:12<00:00,  3.51it/s]\n",
            "                 Class     Images  Instances          P          R      mAP50   mAP50-95: 100% 22/22 [00:06<00:00,  3.33it/s]\n",
            "                   all        700       1145      0.872      0.112      0.138     0.0555\n",
            "\n",
            "      Epoch    GPU_mem   box_loss   obj_loss   cls_loss  Instances       Size\n",
            "       3/29      3.89G    0.06713    0.01727    0.03102         46        640: 100% 44/44 [00:12<00:00,  3.60it/s]\n",
            "                 Class     Images  Instances          P          R      mAP50   mAP50-95: 100% 22/22 [00:07<00:00,  2.94it/s]\n",
            "                   all        700       1145      0.219      0.335      0.266      0.103\n",
            "\n",
            "      Epoch    GPU_mem   box_loss   obj_loss   cls_loss  Instances       Size\n",
            "       4/29      3.89G    0.05719    0.01571     0.0285         33        640: 100% 44/44 [00:12<00:00,  3.49it/s]\n",
            "                 Class     Images  Instances          P          R      mAP50   mAP50-95: 100% 22/22 [00:06<00:00,  3.45it/s]\n",
            "                   all        700       1145      0.505      0.403      0.302      0.108\n",
            "\n",
            "      Epoch    GPU_mem   box_loss   obj_loss   cls_loss  Instances       Size\n",
            "       5/29      3.89G      0.053    0.01434    0.02411         43        640: 100% 44/44 [00:12<00:00,  3.48it/s]\n",
            "                 Class     Images  Instances          P          R      mAP50   mAP50-95: 100% 22/22 [00:07<00:00,  2.95it/s]\n",
            "                   all        700       1145      0.573      0.432      0.341       0.14\n",
            "\n",
            "      Epoch    GPU_mem   box_loss   obj_loss   cls_loss  Instances       Size\n",
            "       6/29      3.89G    0.04992    0.01257    0.02174         34        640: 100% 44/44 [00:12<00:00,  3.44it/s]\n",
            "                 Class     Images  Instances          P          R      mAP50   mAP50-95: 100% 22/22 [00:06<00:00,  3.48it/s]\n",
            "                   all        700       1145      0.517      0.618      0.622      0.307\n",
            "\n",
            "      Epoch    GPU_mem   box_loss   obj_loss   cls_loss  Instances       Size\n",
            "       7/29      3.89G    0.04906    0.01188    0.01988         28        640: 100% 44/44 [00:13<00:00,  3.29it/s]\n",
            "                 Class     Images  Instances          P          R      mAP50   mAP50-95: 100% 22/22 [00:07<00:00,  2.93it/s]\n",
            "                   all        700       1145       0.45      0.745       0.53      0.277\n",
            "\n",
            "      Epoch    GPU_mem   box_loss   obj_loss   cls_loss  Instances       Size\n",
            "       8/29      3.89G    0.04574    0.01114     0.0186         34        640: 100% 44/44 [00:11<00:00,  3.71it/s]\n",
            "                 Class     Images  Instances          P          R      mAP50   mAP50-95: 100% 22/22 [00:06<00:00,  3.19it/s]\n",
            "                   all        700       1145      0.601       0.76      0.743       0.41\n",
            "\n",
            "      Epoch    GPU_mem   box_loss   obj_loss   cls_loss  Instances       Size\n",
            "       9/29      3.89G    0.04258     0.0101    0.01531         32        640: 100% 44/44 [00:12<00:00,  3.42it/s]\n",
            "                 Class     Images  Instances          P          R      mAP50   mAP50-95: 100% 22/22 [00:06<00:00,  3.26it/s]\n",
            "                   all        700       1145      0.759      0.767      0.824      0.467\n",
            "\n",
            "      Epoch    GPU_mem   box_loss   obj_loss   cls_loss  Instances       Size\n",
            "      10/29      3.89G    0.04307   0.009794    0.01369         27        640: 100% 44/44 [00:11<00:00,  3.78it/s]\n",
            "                 Class     Images  Instances          P          R      mAP50   mAP50-95: 100% 22/22 [00:07<00:00,  3.06it/s]\n",
            "                   all        700       1145      0.831      0.789       0.86      0.522\n",
            "\n",
            "      Epoch    GPU_mem   box_loss   obj_loss   cls_loss  Instances       Size\n",
            "      11/29      3.89G    0.03909   0.009003    0.01188         37        640: 100% 44/44 [00:12<00:00,  3.45it/s]\n",
            "                 Class     Images  Instances          P          R      mAP50   mAP50-95: 100% 22/22 [00:06<00:00,  3.21it/s]\n",
            "                   all        700       1145      0.883      0.838      0.905       0.53\n",
            "\n",
            "      Epoch    GPU_mem   box_loss   obj_loss   cls_loss  Instances       Size\n",
            "      12/29      3.89G    0.03843   0.008747      0.011         32        640: 100% 44/44 [00:12<00:00,  3.62it/s]\n",
            "                 Class     Images  Instances          P          R      mAP50   mAP50-95: 100% 22/22 [00:07<00:00,  2.96it/s]\n",
            "                   all        700       1145      0.915      0.875      0.922      0.585\n",
            "\n",
            "      Epoch    GPU_mem   box_loss   obj_loss   cls_loss  Instances       Size\n",
            "      13/29      3.89G    0.03737   0.008488    0.00803         37        640: 100% 44/44 [00:12<00:00,  3.51it/s]\n",
            "                 Class     Images  Instances          P          R      mAP50   mAP50-95: 100% 22/22 [00:06<00:00,  3.44it/s]\n",
            "                   all        700       1145       0.95      0.868       0.93      0.634\n",
            "\n",
            "      Epoch    GPU_mem   box_loss   obj_loss   cls_loss  Instances       Size\n",
            "      14/29      3.89G    0.03753   0.008557   0.008196         42        640: 100% 44/44 [00:12<00:00,  3.49it/s]\n",
            "                 Class     Images  Instances          P          R      mAP50   mAP50-95: 100% 22/22 [00:07<00:00,  2.96it/s]\n",
            "                   all        700       1145      0.955      0.875      0.941      0.566\n",
            "\n",
            "      Epoch    GPU_mem   box_loss   obj_loss   cls_loss  Instances       Size\n",
            "      15/29      3.89G    0.03451    0.00829   0.007008         40        640: 100% 44/44 [00:12<00:00,  3.56it/s]\n",
            "                 Class     Images  Instances          P          R      mAP50   mAP50-95: 100% 22/22 [00:06<00:00,  3.38it/s]\n",
            "                   all        700       1145       0.96      0.885      0.947      0.615\n",
            "\n",
            "      Epoch    GPU_mem   box_loss   obj_loss   cls_loss  Instances       Size\n",
            "      16/29      3.89G    0.03447   0.007983   0.007131         23        640: 100% 44/44 [00:12<00:00,  3.54it/s]\n",
            "                 Class     Images  Instances          P          R      mAP50   mAP50-95: 100% 22/22 [00:07<00:00,  3.09it/s]\n",
            "                   all        700       1145      0.951      0.906      0.955      0.621\n",
            "\n",
            "      Epoch    GPU_mem   box_loss   obj_loss   cls_loss  Instances       Size\n",
            "      17/29      3.89G    0.03228   0.008202   0.006164         40        640: 100% 44/44 [00:11<00:00,  3.80it/s]\n",
            "                 Class     Images  Instances          P          R      mAP50   mAP50-95: 100% 22/22 [00:07<00:00,  2.95it/s]\n",
            "                   all        700       1145      0.966      0.897      0.959      0.658\n",
            "\n",
            "      Epoch    GPU_mem   box_loss   obj_loss   cls_loss  Instances       Size\n",
            "      18/29      3.89G     0.0316   0.007128   0.005339         35        640: 100% 44/44 [00:12<00:00,  3.49it/s]\n",
            "                 Class     Images  Instances          P          R      mAP50   mAP50-95: 100% 22/22 [00:06<00:00,  3.40it/s]\n",
            "                   all        700       1145      0.972      0.905      0.968      0.682\n",
            "\n",
            "      Epoch    GPU_mem   box_loss   obj_loss   cls_loss  Instances       Size\n",
            "      19/29      3.89G    0.03108   0.007542   0.005518         36        640: 100% 44/44 [00:12<00:00,  3.62it/s]\n",
            "                 Class     Images  Instances          P          R      mAP50   mAP50-95: 100% 22/22 [00:07<00:00,  2.96it/s]\n",
            "                   all        700       1145      0.971      0.917      0.968      0.667\n",
            "\n",
            "      Epoch    GPU_mem   box_loss   obj_loss   cls_loss  Instances       Size\n",
            "      20/29      3.89G    0.02931   0.007098    0.00512         19        640: 100% 44/44 [00:12<00:00,  3.52it/s]\n",
            "                 Class     Images  Instances          P          R      mAP50   mAP50-95: 100% 22/22 [00:06<00:00,  3.39it/s]\n",
            "                   all        700       1145      0.973       0.91      0.964       0.68\n",
            "\n",
            "      Epoch    GPU_mem   box_loss   obj_loss   cls_loss  Instances       Size\n",
            "      21/29      3.89G    0.02794   0.007331   0.004604         41        640: 100% 44/44 [00:12<00:00,  3.60it/s]\n",
            "                 Class     Images  Instances          P          R      mAP50   mAP50-95: 100% 22/22 [00:07<00:00,  3.04it/s]\n",
            "                   all        700       1145      0.973      0.911      0.965      0.698\n",
            "\n",
            "      Epoch    GPU_mem   box_loss   obj_loss   cls_loss  Instances       Size\n",
            "      22/29      3.89G    0.02713   0.007103   0.004583         29        640: 100% 44/44 [00:11<00:00,  3.73it/s]\n",
            "                 Class     Images  Instances          P          R      mAP50   mAP50-95: 100% 22/22 [00:07<00:00,  3.08it/s]\n",
            "                   all        700       1145      0.981      0.912      0.967      0.691\n",
            "\n",
            "      Epoch    GPU_mem   box_loss   obj_loss   cls_loss  Instances       Size\n",
            "      23/29      3.89G    0.02622   0.007061   0.004692         35        640: 100% 44/44 [00:12<00:00,  3.48it/s]\n",
            "                 Class     Images  Instances          P          R      mAP50   mAP50-95: 100% 22/22 [00:06<00:00,  3.36it/s]\n",
            "                   all        700       1145      0.969      0.921      0.971      0.702\n",
            "\n",
            "      Epoch    GPU_mem   box_loss   obj_loss   cls_loss  Instances       Size\n",
            "      24/29      3.89G    0.02392   0.006995    0.00402         35        640: 100% 44/44 [00:12<00:00,  3.66it/s]\n",
            "                 Class     Images  Instances          P          R      mAP50   mAP50-95: 100% 22/22 [00:07<00:00,  2.88it/s]\n",
            "                   all        700       1145       0.97      0.926      0.974      0.717\n",
            "\n",
            "      Epoch    GPU_mem   box_loss   obj_loss   cls_loss  Instances       Size\n",
            "      25/29      3.89G    0.02434   0.006866   0.003785         30        640: 100% 44/44 [00:12<00:00,  3.47it/s]\n",
            "                 Class     Images  Instances          P          R      mAP50   mAP50-95: 100% 22/22 [00:06<00:00,  3.37it/s]\n",
            "                   all        700       1145      0.962      0.929      0.977      0.727\n",
            "\n",
            "      Epoch    GPU_mem   box_loss   obj_loss   cls_loss  Instances       Size\n",
            "      26/29      3.89G    0.02322   0.006641   0.003914         36        640: 100% 44/44 [00:12<00:00,  3.47it/s]\n",
            "                 Class     Images  Instances          P          R      mAP50   mAP50-95: 100% 22/22 [00:07<00:00,  2.93it/s]\n",
            "                   all        700       1145      0.959      0.933      0.974       0.72\n",
            "\n",
            "      Epoch    GPU_mem   box_loss   obj_loss   cls_loss  Instances       Size\n",
            "      27/29      3.89G    0.02229   0.006739   0.003564         41        640: 100% 44/44 [00:12<00:00,  3.50it/s]\n",
            "                 Class     Images  Instances          P          R      mAP50   mAP50-95: 100% 22/22 [00:06<00:00,  3.36it/s]\n",
            "                   all        700       1145      0.975      0.915      0.974      0.728\n",
            "\n",
            "      Epoch    GPU_mem   box_loss   obj_loss   cls_loss  Instances       Size\n",
            "      28/29      3.89G    0.02173   0.006511   0.003428         31        640: 100% 44/44 [00:12<00:00,  3.50it/s]\n",
            "                 Class     Images  Instances          P          R      mAP50   mAP50-95: 100% 22/22 [00:07<00:00,  3.05it/s]\n",
            "                   all        700       1145      0.962      0.933      0.976      0.734\n",
            "\n",
            "      Epoch    GPU_mem   box_loss   obj_loss   cls_loss  Instances       Size\n",
            "      29/29      3.89G    0.02096   0.006362   0.003304         41        640: 100% 44/44 [00:11<00:00,  3.76it/s]\n",
            "                 Class     Images  Instances          P          R      mAP50   mAP50-95: 100% 22/22 [00:07<00:00,  3.00it/s]\n",
            "                   all        700       1145       0.96      0.933      0.974      0.732\n",
            "\n",
            "30 epochs completed in 0.170 hours.\n",
            "Optimizer stripped from runs/train/exp5/weights/last.pt, 14.4MB\n",
            "Optimizer stripped from runs/train/exp5/weights/best.pt, 14.4MB\n",
            "\n",
            "Validating runs/train/exp5/weights/best.pt...\n",
            "Fusing layers... \n",
            "Model summary: 157 layers, 7020913 parameters, 0 gradients, 15.8 GFLOPs\n",
            "                 Class     Images  Instances          P          R      mAP50   mAP50-95: 100% 22/22 [00:09<00:00,  2.35it/s]\n",
            "                   all        700       1145      0.961      0.933      0.976      0.733\n",
            "           prohibitory        700        526      0.956      0.977      0.992      0.766\n",
            "                danger        700        206      0.984      0.976       0.99      0.761\n",
            "             mandatory        700        156       0.93      0.872      0.952      0.692\n",
            "                 other        700        257      0.975      0.906      0.971      0.712\n",
            "Results saved to \u001b[1mruns/train/exp5\u001b[0m\n"
          ]
        }
      ]
    },
    {
      "cell_type": "markdown",
      "source": [
        "Выполняем переход в каталог выше с папками yolov5 и datasets.\\\n",
        "В datasets хранятся папки ts с images и labels картинок, а также папка test с изображениями для проверки работы yolo"
      ],
      "metadata": {
        "id": "uEF6_yoWOBaM"
      }
    },
    {
      "cell_type": "code",
      "source": [
        "%cd .."
      ],
      "metadata": {
        "colab": {
          "base_uri": "https://localhost:8080/"
        },
        "id": "YAm48KR8Pwlq",
        "outputId": "e0dc880c-fa5a-431e-e402-113b29de6b51"
      },
      "execution_count": null,
      "outputs": [
        {
          "output_type": "stream",
          "name": "stdout",
          "text": [
            "/content/drive/MyDrive/Colab_Notebooks/ML\n"
          ]
        }
      ]
    },
    {
      "cell_type": "code",
      "source": [
        "!python yolov5/export.py --weights yolov5/runs/train/exp5/weights/best.pt --include torchscript onnx"
      ],
      "metadata": {
        "colab": {
          "base_uri": "https://localhost:8080/"
        },
        "id": "rslmEQYxf04e",
        "outputId": "ea534d1b-f683-43b3-c38b-4626e8e66f28"
      },
      "execution_count": null,
      "outputs": [
        {
          "output_type": "stream",
          "name": "stdout",
          "text": [
            "\u001b[34m\u001b[1mexport: \u001b[0mdata=yolov5/data/coco128.yaml, weights=['yolov5/runs/train/exp5/weights/best.pt'], imgsz=[640, 640], batch_size=1, device=cpu, half=False, inplace=False, keras=False, optimize=False, int8=False, per_tensor=False, dynamic=False, simplify=False, opset=17, verbose=False, workspace=4, nms=False, agnostic_nms=False, topk_per_class=100, topk_all=100, iou_thres=0.45, conf_thres=0.25, include=['torchscript', 'onnx']\n",
            "YOLOv5 🚀 v7.0-304-g22361691 Python-3.10.12 torch-2.2.1+cu121 CPU\n",
            "\n",
            "Fusing layers... \n",
            "Model summary: 157 layers, 7020913 parameters, 0 gradients, 15.8 GFLOPs\n",
            "\n",
            "\u001b[34m\u001b[1mPyTorch:\u001b[0m starting from yolov5/runs/train/exp5/weights/best.pt with output shape (1, 25200, 9) (13.7 MB)\n",
            "\n",
            "\u001b[34m\u001b[1mTorchScript:\u001b[0m starting export with torch 2.2.1+cu121...\n",
            "\u001b[34m\u001b[1mTorchScript:\u001b[0m export success ✅ 3.2s, saved as yolov5/runs/train/exp5/weights/best.torchscript (27.2 MB)\n",
            "\u001b[31m\u001b[1mrequirements:\u001b[0m Ultralytics requirement ['onnx>=1.12.0'] not found, attempting AutoUpdate...\n",
            "Collecting onnx>=1.12.0\n",
            "  Downloading onnx-1.16.0-cp310-cp310-manylinux_2_17_x86_64.manylinux2014_x86_64.whl (15.9 MB)\n",
            "     ━━━━━━━━━━━━━━━━━━━━━━━━━━━━━━━━━━━━━━━━ 15.9/15.9 MB 75.3 MB/s eta 0:00:00\n",
            "Requirement already satisfied: numpy>=1.20 in /usr/local/lib/python3.10/dist-packages (from onnx>=1.12.0) (1.25.2)\n",
            "Requirement already satisfied: protobuf>=3.20.2 in /usr/local/lib/python3.10/dist-packages (from onnx>=1.12.0) (3.20.3)\n",
            "Installing collected packages: onnx\n",
            "Successfully installed onnx-1.16.0\n",
            "\n",
            "\u001b[31m\u001b[1mrequirements:\u001b[0m AutoUpdate success ✅ 9.5s, installed 1 package: ['onnx>=1.12.0']\n",
            "\u001b[31m\u001b[1mrequirements:\u001b[0m ⚠️ \u001b[1mRestart runtime or rerun command for updates to take effect\u001b[0m\n",
            "\n",
            "\n",
            "\u001b[34m\u001b[1mONNX:\u001b[0m starting export with onnx 1.16.0...\n",
            "\u001b[34m\u001b[1mONNX:\u001b[0m export success ✅ 10.9s, saved as yolov5/runs/train/exp5/weights/best.onnx (27.2 MB)\n",
            "\n",
            "Export complete (15.4s)\n",
            "Results saved to \u001b[1m/content/drive/MyDrive/Colab_Notebooks/ML/yolov5/runs/train/exp5/weights\u001b[0m\n",
            "Detect:          python detect.py --weights yolov5/runs/train/exp5/weights/best.onnx \n",
            "Validate:        python val.py --weights yolov5/runs/train/exp5/weights/best.onnx \n",
            "PyTorch Hub:     model = torch.hub.load('ultralytics/yolov5', 'custom', 'yolov5/runs/train/exp5/weights/best.onnx')  \n",
            "Visualize:       https://netron.app\n"
          ]
        }
      ]
    },
    {
      "cell_type": "code",
      "source": [
        "!python yolov5/detect.py --weights yolov5/runs/train/exp5/weights/best.onnx --source datasets/test/images"
      ],
      "metadata": {
        "colab": {
          "base_uri": "https://localhost:8080/"
        },
        "id": "ptqnIf8u5Kui",
        "outputId": "51549ee1-5f89-4ae8-f5ed-22ce07129899"
      },
      "execution_count": null,
      "outputs": [
        {
          "output_type": "stream",
          "name": "stdout",
          "text": [
            "\u001b[34m\u001b[1mdetect: \u001b[0mweights=['yolov5/runs/train/exp5/weights/best.onnx'], source=datasets/test/images, data=yolov5/data/coco128.yaml, imgsz=[640, 640], conf_thres=0.25, iou_thres=0.45, max_det=1000, device=, view_img=False, save_txt=False, save_csv=False, save_conf=False, save_crop=False, nosave=False, classes=None, agnostic_nms=False, augment=False, visualize=False, update=False, project=yolov5/runs/detect, name=exp, exist_ok=False, line_thickness=3, hide_labels=False, hide_conf=False, half=False, dnn=False, vid_stride=1\n",
            "YOLOv5 🚀 v7.0-304-g22361691 Python-3.10.12 torch-2.2.1+cu121 CUDA:0 (Tesla T4, 15102MiB)\n",
            "\n",
            "Loading yolov5/runs/train/exp5/weights/best.onnx for ONNX Runtime inference...\n",
            "\u001b[1;31m2024-04-25 14:34:04.717550167 [E:onnxruntime:Default, provider_bridge_ort.cc:1548 TryGetProviderInfo_CUDA] /onnxruntime_src/onnxruntime/core/session/provider_bridge_ort.cc:1209 onnxruntime::Provider& onnxruntime::ProviderLibrary::Get() [ONNXRuntimeError] : 1 : FAIL : Failed to load library libonnxruntime_providers_cuda.so with error: libcublasLt.so.11: cannot open shared object file: No such file or directory\n",
            "\u001b[m\n",
            "\u001b[0;93m2024-04-25 14:34:04.717580087 [W:onnxruntime:Default, onnxruntime_pybind_state.cc:861 CreateExecutionProviderInstance] Failed to create CUDAExecutionProvider. Please reference https://onnxruntime.ai/docs/execution-providers/CUDA-ExecutionProvider.html#requirementsto ensure all dependencies are met.\u001b[m\n",
            "WARNING ⚠️ NMS time limit 0.550s exceeded\n",
            "image 1/41 /content/drive/MyDrive/Colab_Notebooks/ML/datasets/test/images/00849.jpg: 640x640 1 prohibitory, 1 mandatory, 1 other, 301.3ms\n",
            "image 2/41 /content/drive/MyDrive/Colab_Notebooks/ML/datasets/test/images/00850.jpg: 640x640 1 prohibitory, 271.8ms\n",
            "image 3/41 /content/drive/MyDrive/Colab_Notebooks/ML/datasets/test/images/00851.jpg: 640x640 1 prohibitory, 1 danger, 262.1ms\n",
            "image 4/41 /content/drive/MyDrive/Colab_Notebooks/ML/datasets/test/images/00852.jpg: 640x640 1 danger, 266.6ms\n",
            "image 5/41 /content/drive/MyDrive/Colab_Notebooks/ML/datasets/test/images/00853.jpg: 640x640 2 mandatorys, 1 other, 283.6ms\n",
            "image 6/41 /content/drive/MyDrive/Colab_Notebooks/ML/datasets/test/images/00854.jpg: 640x640 1 prohibitory, 265.4ms\n",
            "image 7/41 /content/drive/MyDrive/Colab_Notebooks/ML/datasets/test/images/00855.jpg: 640x640 1 danger, 1 other, 273.2ms\n",
            "image 8/41 /content/drive/MyDrive/Colab_Notebooks/ML/datasets/test/images/00857.jpg: 640x640 2 others, 277.4ms\n",
            "image 9/41 /content/drive/MyDrive/Colab_Notebooks/ML/datasets/test/images/00858.jpg: 640x640 2 dangers, 267.3ms\n",
            "image 10/41 /content/drive/MyDrive/Colab_Notebooks/ML/datasets/test/images/00859.jpg: 640x640 1 danger, 396.7ms\n",
            "image 11/41 /content/drive/MyDrive/Colab_Notebooks/ML/datasets/test/images/00860.jpg: 640x640 1 prohibitory, 427.1ms\n",
            "image 12/41 /content/drive/MyDrive/Colab_Notebooks/ML/datasets/test/images/00862.jpg: 640x640 1 prohibitory, 403.8ms\n",
            "image 13/41 /content/drive/MyDrive/Colab_Notebooks/ML/datasets/test/images/00863.jpg: 640x640 1 other, 416.0ms\n",
            "image 14/41 /content/drive/MyDrive/Colab_Notebooks/ML/datasets/test/images/00864.jpg: 640x640 1 danger, 410.2ms\n",
            "image 15/41 /content/drive/MyDrive/Colab_Notebooks/ML/datasets/test/images/00865.jpg: 640x640 1 mandatory, 1 other, 416.4ms\n",
            "image 16/41 /content/drive/MyDrive/Colab_Notebooks/ML/datasets/test/images/00866.jpg: 640x640 1 prohibitory, 1 mandatory, 426.2ms\n",
            "image 17/41 /content/drive/MyDrive/Colab_Notebooks/ML/datasets/test/images/00867.jpg: 640x640 2 dangers, 395.4ms\n",
            "image 18/41 /content/drive/MyDrive/Colab_Notebooks/ML/datasets/test/images/00868.jpg: 640x640 (no detections), 272.9ms\n",
            "image 19/41 /content/drive/MyDrive/Colab_Notebooks/ML/datasets/test/images/00869.jpg: 640x640 2 dangers, 1 other, 293.0ms\n",
            "image 20/41 /content/drive/MyDrive/Colab_Notebooks/ML/datasets/test/images/00870.jpg: 640x640 2 prohibitorys, 283.8ms\n",
            "image 21/41 /content/drive/MyDrive/Colab_Notebooks/ML/datasets/test/images/00871.jpg: 640x640 2 prohibitorys, 266.4ms\n",
            "image 22/41 /content/drive/MyDrive/Colab_Notebooks/ML/datasets/test/images/00872.jpg: 640x640 2 prohibitorys, 288.6ms\n",
            "image 23/41 /content/drive/MyDrive/Colab_Notebooks/ML/datasets/test/images/00874.jpg: 640x640 1 danger, 264.3ms\n",
            "image 24/41 /content/drive/MyDrive/Colab_Notebooks/ML/datasets/test/images/00876.jpg: 640x640 2 prohibitorys, 275.2ms\n",
            "image 25/41 /content/drive/MyDrive/Colab_Notebooks/ML/datasets/test/images/00879.jpg: 640x640 2 others, 268.2ms\n",
            "image 26/41 /content/drive/MyDrive/Colab_Notebooks/ML/datasets/test/images/00881.jpg: 640x640 2 prohibitorys, 283.3ms\n",
            "image 27/41 /content/drive/MyDrive/Colab_Notebooks/ML/datasets/test/images/00882.jpg: 640x640 1 prohibitory, 305.7ms\n",
            "image 28/41 /content/drive/MyDrive/Colab_Notebooks/ML/datasets/test/images/00884.jpg: 640x640 2 prohibitorys, 288.9ms\n",
            "image 29/41 /content/drive/MyDrive/Colab_Notebooks/ML/datasets/test/images/00885.jpg: 640x640 1 mandatory, 1 other, 284.6ms\n",
            "image 30/41 /content/drive/MyDrive/Colab_Notebooks/ML/datasets/test/images/00886.jpg: 640x640 3 prohibitorys, 271.6ms\n",
            "image 31/41 /content/drive/MyDrive/Colab_Notebooks/ML/datasets/test/images/00887.jpg: 640x640 1 prohibitory, 274.6ms\n",
            "image 32/41 /content/drive/MyDrive/Colab_Notebooks/ML/datasets/test/images/00888.jpg: 640x640 1 mandatory, 1 other, 284.7ms\n",
            "image 33/41 /content/drive/MyDrive/Colab_Notebooks/ML/datasets/test/images/00889.jpg: 640x640 1 prohibitory, 1 other, 279.5ms\n",
            "image 34/41 /content/drive/MyDrive/Colab_Notebooks/ML/datasets/test/images/00891.jpg: 640x640 2 prohibitorys, 271.0ms\n",
            "image 35/41 /content/drive/MyDrive/Colab_Notebooks/ML/datasets/test/images/00893.jpg: 640x640 (no detections), 271.7ms\n",
            "image 36/41 /content/drive/MyDrive/Colab_Notebooks/ML/datasets/test/images/00894.jpg: 640x640 2 prohibitorys, 1 other, 279.4ms\n",
            "image 37/41 /content/drive/MyDrive/Colab_Notebooks/ML/datasets/test/images/00895.jpg: 640x640 2 prohibitorys, 287.6ms\n",
            "image 38/41 /content/drive/MyDrive/Colab_Notebooks/ML/datasets/test/images/00896.jpg: 640x640 1 prohibitory, 271.2ms\n",
            "image 39/41 /content/drive/MyDrive/Colab_Notebooks/ML/datasets/test/images/00897.jpg: 640x640 (no detections), 265.8ms\n",
            "image 40/41 /content/drive/MyDrive/Colab_Notebooks/ML/datasets/test/images/00898.jpg: 640x640 2 prohibitorys, 269.9ms\n",
            "image 41/41 /content/drive/MyDrive/Colab_Notebooks/ML/datasets/test/images/00899.jpg: 640x640 1 danger, 274.4ms\n",
            "Speed: 1.0ms pre-process, 303.3ms inference, 16.4ms NMS per image at shape (1, 3, 640, 640)\n",
            "Results saved to \u001b[1myolov5/runs/detect/exp3\u001b[0m\n"
          ]
        }
      ]
    },
    {
      "cell_type": "code",
      "source": [
        "!python yolov5/detect.py --weights yolov5/runs/train/exp5/weights/best.pt --source datasets/test/images"
      ],
      "metadata": {
        "colab": {
          "base_uri": "https://localhost:8080/"
        },
        "id": "KGLd08zZ66cG",
        "outputId": "04a4c619-d6ec-449b-bfb7-d0f912eb4657"
      },
      "execution_count": null,
      "outputs": [
        {
          "output_type": "stream",
          "name": "stdout",
          "text": [
            "\u001b[34m\u001b[1mdetect: \u001b[0mweights=['yolov5/runs/train/exp5/weights/best.pt'], source=datasets/test/images, data=yolov5/data/coco128.yaml, imgsz=[640, 640], conf_thres=0.25, iou_thres=0.45, max_det=1000, device=, view_img=False, save_txt=False, save_csv=False, save_conf=False, save_crop=False, nosave=False, classes=None, agnostic_nms=False, augment=False, visualize=False, update=False, project=yolov5/runs/detect, name=exp, exist_ok=False, line_thickness=3, hide_labels=False, hide_conf=False, half=False, dnn=False, vid_stride=1\n",
            "YOLOv5 🚀 v7.0-304-g22361691 Python-3.10.12 torch-2.2.1+cu121 CUDA:0 (Tesla T4, 15102MiB)\n",
            "\n",
            "Fusing layers... \n",
            "Model summary: 157 layers, 7020913 parameters, 0 gradients, 15.8 GFLOPs\n",
            "WARNING ⚠️ NMS time limit 0.550s exceeded\n",
            "image 1/41 /content/drive/MyDrive/Colab_Notebooks/ML/datasets/test/images/00849.jpg: 384x640 1 prohibitory, 1 mandatory, 1 other, 55.9ms\n",
            "image 2/41 /content/drive/MyDrive/Colab_Notebooks/ML/datasets/test/images/00850.jpg: 384x640 1 prohibitory, 7.6ms\n",
            "image 3/41 /content/drive/MyDrive/Colab_Notebooks/ML/datasets/test/images/00851.jpg: 384x640 1 prohibitory, 1 danger, 7.6ms\n",
            "image 4/41 /content/drive/MyDrive/Colab_Notebooks/ML/datasets/test/images/00852.jpg: 384x640 1 danger, 7.6ms\n",
            "image 5/41 /content/drive/MyDrive/Colab_Notebooks/ML/datasets/test/images/00853.jpg: 384x640 2 mandatorys, 1 other, 7.6ms\n",
            "image 6/41 /content/drive/MyDrive/Colab_Notebooks/ML/datasets/test/images/00854.jpg: 384x640 1 prohibitory, 7.5ms\n",
            "image 7/41 /content/drive/MyDrive/Colab_Notebooks/ML/datasets/test/images/00855.jpg: 384x640 1 danger, 1 other, 7.6ms\n",
            "image 8/41 /content/drive/MyDrive/Colab_Notebooks/ML/datasets/test/images/00857.jpg: 384x640 2 others, 7.6ms\n",
            "image 9/41 /content/drive/MyDrive/Colab_Notebooks/ML/datasets/test/images/00858.jpg: 384x640 2 dangers, 7.5ms\n",
            "image 10/41 /content/drive/MyDrive/Colab_Notebooks/ML/datasets/test/images/00859.jpg: 384x640 1 danger, 7.5ms\n",
            "image 11/41 /content/drive/MyDrive/Colab_Notebooks/ML/datasets/test/images/00860.jpg: 384x640 1 prohibitory, 7.5ms\n",
            "image 12/41 /content/drive/MyDrive/Colab_Notebooks/ML/datasets/test/images/00862.jpg: 384x640 1 prohibitory, 7.7ms\n",
            "image 13/41 /content/drive/MyDrive/Colab_Notebooks/ML/datasets/test/images/00863.jpg: 384x640 1 other, 9.9ms\n",
            "image 14/41 /content/drive/MyDrive/Colab_Notebooks/ML/datasets/test/images/00864.jpg: 384x640 1 danger, 7.5ms\n",
            "image 15/41 /content/drive/MyDrive/Colab_Notebooks/ML/datasets/test/images/00865.jpg: 384x640 1 mandatory, 1 other, 7.6ms\n",
            "image 16/41 /content/drive/MyDrive/Colab_Notebooks/ML/datasets/test/images/00866.jpg: 384x640 1 prohibitory, 1 mandatory, 7.6ms\n",
            "image 17/41 /content/drive/MyDrive/Colab_Notebooks/ML/datasets/test/images/00867.jpg: 384x640 2 dangers, 7.6ms\n",
            "image 18/41 /content/drive/MyDrive/Colab_Notebooks/ML/datasets/test/images/00868.jpg: 384x640 (no detections), 7.6ms\n",
            "image 19/41 /content/drive/MyDrive/Colab_Notebooks/ML/datasets/test/images/00869.jpg: 384x640 2 dangers, 1 other, 9.7ms\n",
            "image 20/41 /content/drive/MyDrive/Colab_Notebooks/ML/datasets/test/images/00870.jpg: 384x640 2 prohibitorys, 7.5ms\n",
            "image 21/41 /content/drive/MyDrive/Colab_Notebooks/ML/datasets/test/images/00871.jpg: 384x640 2 prohibitorys, 7.5ms\n",
            "image 22/41 /content/drive/MyDrive/Colab_Notebooks/ML/datasets/test/images/00872.jpg: 384x640 2 prohibitorys, 7.5ms\n",
            "image 23/41 /content/drive/MyDrive/Colab_Notebooks/ML/datasets/test/images/00874.jpg: 384x640 1 danger, 7.5ms\n",
            "image 24/41 /content/drive/MyDrive/Colab_Notebooks/ML/datasets/test/images/00876.jpg: 384x640 2 prohibitorys, 7.6ms\n",
            "image 25/41 /content/drive/MyDrive/Colab_Notebooks/ML/datasets/test/images/00879.jpg: 384x640 2 others, 7.6ms\n",
            "image 26/41 /content/drive/MyDrive/Colab_Notebooks/ML/datasets/test/images/00881.jpg: 384x640 2 prohibitorys, 7.6ms\n",
            "image 27/41 /content/drive/MyDrive/Colab_Notebooks/ML/datasets/test/images/00882.jpg: 384x640 1 prohibitory, 7.5ms\n",
            "image 28/41 /content/drive/MyDrive/Colab_Notebooks/ML/datasets/test/images/00884.jpg: 384x640 2 prohibitorys, 7.5ms\n",
            "image 29/41 /content/drive/MyDrive/Colab_Notebooks/ML/datasets/test/images/00885.jpg: 384x640 1 mandatory, 1 other, 7.6ms\n",
            "image 30/41 /content/drive/MyDrive/Colab_Notebooks/ML/datasets/test/images/00886.jpg: 384x640 3 prohibitorys, 7.6ms\n",
            "image 31/41 /content/drive/MyDrive/Colab_Notebooks/ML/datasets/test/images/00887.jpg: 384x640 1 prohibitory, 7.5ms\n",
            "image 32/41 /content/drive/MyDrive/Colab_Notebooks/ML/datasets/test/images/00888.jpg: 384x640 1 mandatory, 1 other, 7.5ms\n",
            "image 33/41 /content/drive/MyDrive/Colab_Notebooks/ML/datasets/test/images/00889.jpg: 384x640 1 prohibitory, 1 other, 7.6ms\n",
            "image 34/41 /content/drive/MyDrive/Colab_Notebooks/ML/datasets/test/images/00891.jpg: 384x640 2 prohibitorys, 7.6ms\n",
            "image 35/41 /content/drive/MyDrive/Colab_Notebooks/ML/datasets/test/images/00893.jpg: 384x640 (no detections), 7.5ms\n",
            "image 36/41 /content/drive/MyDrive/Colab_Notebooks/ML/datasets/test/images/00894.jpg: 384x640 2 prohibitorys, 1 other, 7.5ms\n",
            "image 37/41 /content/drive/MyDrive/Colab_Notebooks/ML/datasets/test/images/00895.jpg: 384x640 2 prohibitorys, 7.5ms\n",
            "image 38/41 /content/drive/MyDrive/Colab_Notebooks/ML/datasets/test/images/00896.jpg: 384x640 1 prohibitory, 7.5ms\n",
            "image 39/41 /content/drive/MyDrive/Colab_Notebooks/ML/datasets/test/images/00897.jpg: 384x640 (no detections), 9.8ms\n",
            "image 40/41 /content/drive/MyDrive/Colab_Notebooks/ML/datasets/test/images/00898.jpg: 384x640 2 prohibitorys, 10.8ms\n",
            "image 41/41 /content/drive/MyDrive/Colab_Notebooks/ML/datasets/test/images/00899.jpg: 384x640 1 danger, 7.6ms\n",
            "Speed: 0.5ms pre-process, 9.0ms inference, 18.8ms NMS per image at shape (1, 3, 640, 640)\n",
            "Results saved to \u001b[1myolov5/runs/detect/exp4\u001b[0m\n"
          ]
        }
      ]
    }
  ]
}